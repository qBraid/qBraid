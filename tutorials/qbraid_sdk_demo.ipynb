{
 "cells": [
  {
   "cell_type": "code",
   "execution_count": 1,
   "id": "331a496f",
   "metadata": {},
   "outputs": [],
   "source": [
    "from qbraid import (\n",
    "    get_devices, \n",
    "    random_circuit, \n",
    "    device_wrapper, \n",
    ")"
   ]
  },
  {
   "cell_type": "markdown",
   "id": "cb5fd782",
   "metadata": {},
   "source": [
    "Get a complete list of devices available through qBraid using the get_devices function"
   ]
  },
  {
   "cell_type": "code",
   "execution_count": 4,
   "id": "46da3cb6",
   "metadata": {
    "scrolled": true
   },
   "outputs": [
    {
     "ename": "KeyError",
     "evalue": "'status_refresh'",
     "output_type": "error",
     "traceback": [
      "\u001b[0;31m---------------------------------------------------------------------------\u001b[0m",
      "\u001b[0;31mKeyError\u001b[0m                                  Traceback (most recent call last)",
      "\u001b[0;32m/var/folders/y7/5ch_k4y52y57rsgpyz4gy3sr0000gn/T/ipykernel_23068/107226741.py\u001b[0m in \u001b[0;36m<module>\u001b[0;34m\u001b[0m\n\u001b[0;32m----> 1\u001b[0;31m \u001b[0mget_devices\u001b[0m\u001b[0;34m(\u001b[0m\u001b[0;34m)\u001b[0m\u001b[0;34m\u001b[0m\u001b[0;34m\u001b[0m\u001b[0m\n\u001b[0m",
      "\u001b[0;32m~/Documents/GitHub/qBraid/qbraid/devices/_utils/device_api.py\u001b[0m in \u001b[0;36mget_devices\u001b[0;34m(query)\u001b[0m\n\u001b[1;32m    133\u001b[0m     \"\"\"\n\u001b[1;32m    134\u001b[0m     \u001b[0minput_query\u001b[0m \u001b[0;34m=\u001b[0m \u001b[0;34m{\u001b[0m\u001b[0;34m}\u001b[0m \u001b[0;32mif\u001b[0m \u001b[0mquery\u001b[0m \u001b[0;32mis\u001b[0m \u001b[0;32mNone\u001b[0m \u001b[0;32melse\u001b[0m \u001b[0mquery\u001b[0m\u001b[0;34m\u001b[0m\u001b[0;34m\u001b[0m\u001b[0m\n\u001b[0;32m--> 135\u001b[0;31m     \u001b[0mdevice_data\u001b[0m\u001b[0;34m,\u001b[0m \u001b[0m_\u001b[0m \u001b[0;34m=\u001b[0m \u001b[0m_get_device_data\u001b[0m\u001b[0;34m(\u001b[0m\u001b[0minput_query\u001b[0m\u001b[0;34m)\u001b[0m\u001b[0;34m\u001b[0m\u001b[0;34m\u001b[0m\u001b[0m\n\u001b[0m\u001b[1;32m    136\u001b[0m     \u001b[0;31m# device_data, lag = _get_device_data(input_query)\u001b[0m\u001b[0;34m\u001b[0m\u001b[0;34m\u001b[0m\u001b[0m\n\u001b[1;32m    137\u001b[0m     \u001b[0;31m# hours, minutes = divmod(lag, 60)\u001b[0m\u001b[0;34m\u001b[0m\u001b[0;34m\u001b[0m\u001b[0m\n",
      "\u001b[0;32m~/Documents/GitHub/qBraid/qbraid/devices/_utils/device_api.py\u001b[0m in \u001b[0;36m_get_device_data\u001b[0;34m(query)\u001b[0m\n\u001b[1;32m     30\u001b[0m         \u001b[0mname\u001b[0m \u001b[0;34m=\u001b[0m \u001b[0mdocument\u001b[0m\u001b[0;34m[\u001b[0m\u001b[0;34m\"name\"\u001b[0m\u001b[0;34m]\u001b[0m\u001b[0;34m\u001b[0m\u001b[0;34m\u001b[0m\u001b[0m\n\u001b[1;32m     31\u001b[0m         \u001b[0mprovider\u001b[0m \u001b[0;34m=\u001b[0m \u001b[0mdocument\u001b[0m\u001b[0;34m[\u001b[0m\u001b[0;34m\"provider\"\u001b[0m\u001b[0;34m]\u001b[0m\u001b[0;34m\u001b[0m\u001b[0;34m\u001b[0m\u001b[0m\n\u001b[0;32m---> 32\u001b[0;31m         \u001b[0mstatus_refresh\u001b[0m \u001b[0;34m=\u001b[0m \u001b[0mdocument\u001b[0m\u001b[0;34m[\u001b[0m\u001b[0;34m\"status_refresh\"\u001b[0m\u001b[0;34m]\u001b[0m\u001b[0;34m\u001b[0m\u001b[0;34m\u001b[0m\u001b[0m\n\u001b[0m\u001b[1;32m     33\u001b[0m         \u001b[0mtimestamp\u001b[0m \u001b[0;34m=\u001b[0m \u001b[0mdatetime\u001b[0m\u001b[0;34m.\u001b[0m\u001b[0mutcnow\u001b[0m\u001b[0;34m(\u001b[0m\u001b[0;34m)\u001b[0m\u001b[0;34m\u001b[0m\u001b[0;34m\u001b[0m\u001b[0m\n\u001b[1;32m     34\u001b[0m         \u001b[0mlag\u001b[0m \u001b[0;34m=\u001b[0m \u001b[0;36m0\u001b[0m\u001b[0;34m\u001b[0m\u001b[0;34m\u001b[0m\u001b[0m\n",
      "\u001b[0;31mKeyError\u001b[0m: 'status_refresh'"
     ]
    }
   ],
   "source": [
    "get_devices()"
   ]
  },
  {
   "cell_type": "markdown",
   "id": "b6881bc0",
   "metadata": {},
   "source": [
    "All device status's are updated every hour. To manually refresh device status's, use refresh_devices"
   ]
  },
  {
   "cell_type": "code",
   "execution_count": null,
   "id": "99f670f5",
   "metadata": {},
   "outputs": [],
   "source": [
    "refresh_devices()"
   ]
  },
  {
   "cell_type": "markdown",
   "id": "2ac5ee70",
   "metadata": {},
   "source": [
    "Filter your device search with many different advanced query options! \n",
    "\n",
    "For example, let's find all gate-based QPUs with at least 5 qubits that are online:"
   ]
  },
  {
   "cell_type": "code",
   "execution_count": 5,
   "id": "d472ad75",
   "metadata": {},
   "outputs": [
    {
     "data": {
      "text/html": [
       "<h3>Supported Devices</h3><table><tr>\n",
       "    <th style='text-align:left'>Provider</th>\n",
       "    <th style='text-align:left'>Name</th>\n",
       "    <th style='text-align:left'>qBraid ID</th>\n",
       "    <th style='text-align:left'>Status</th></tr>\n",
       "    <tr><td colspan='4'; style='text-align:center'>No results matching given criteria</td></tr></table>"
      ],
      "text/plain": [
       "<IPython.core.display.HTML object>"
      ]
     },
     "metadata": {},
     "output_type": "display_data"
    }
   ],
   "source": [
    "get_devices({\"paradigm\": \"gate-based\", \"type\": \"QPU\", \"qubits\": {\"$gte\": 5}, \"status\": \"ONLINE\"})"
   ]
  },
  {
   "cell_type": "markdown",
   "id": "052fd5f9",
   "metadata": {},
   "source": [
    "This time, let's search for state vector simulators available through AWS or IBM"
   ]
  },
  {
   "cell_type": "code",
   "execution_count": 6,
   "id": "dca2b958",
   "metadata": {},
   "outputs": [
    {
     "ename": "KeyError",
     "evalue": "'status_refresh'",
     "output_type": "error",
     "traceback": [
      "\u001b[0;31m---------------------------------------------------------------------------\u001b[0m",
      "\u001b[0;31mKeyError\u001b[0m                                  Traceback (most recent call last)",
      "\u001b[0;32m/var/folders/y7/5ch_k4y52y57rsgpyz4gy3sr0000gn/T/ipykernel_23068/467849266.py\u001b[0m in \u001b[0;36m<module>\u001b[0;34m\u001b[0m\n\u001b[0;32m----> 1\u001b[0;31m \u001b[0mget_devices\u001b[0m\u001b[0;34m(\u001b[0m\u001b[0;34m{\u001b[0m\u001b[0;34m\"type\"\u001b[0m\u001b[0;34m:\u001b[0m \u001b[0;34m\"Simulator\"\u001b[0m\u001b[0;34m,\u001b[0m \u001b[0;34m\"name\"\u001b[0m\u001b[0;34m:\u001b[0m \u001b[0;34m{\u001b[0m\u001b[0;34m\"$regex\"\u001b[0m\u001b[0;34m:\u001b[0m \u001b[0;34m\"Density Matrix\"\u001b[0m\u001b[0;34m}\u001b[0m\u001b[0;34m,\u001b[0m \u001b[0;34m\"vendor\"\u001b[0m\u001b[0;34m:\u001b[0m \u001b[0;34m{\u001b[0m\u001b[0;34m\"$in\"\u001b[0m\u001b[0;34m:\u001b[0m \u001b[0;34m[\u001b[0m\u001b[0;34m\"AWS\"\u001b[0m\u001b[0;34m,\u001b[0m \u001b[0;34m\"Google\"\u001b[0m\u001b[0;34m]\u001b[0m\u001b[0;34m}\u001b[0m\u001b[0;34m}\u001b[0m\u001b[0;34m)\u001b[0m\u001b[0;34m\u001b[0m\u001b[0;34m\u001b[0m\u001b[0m\n\u001b[0m",
      "\u001b[0;32m~/Documents/GitHub/qBraid/qbraid/devices/_utils/device_api.py\u001b[0m in \u001b[0;36mget_devices\u001b[0;34m(query)\u001b[0m\n\u001b[1;32m    133\u001b[0m     \"\"\"\n\u001b[1;32m    134\u001b[0m     \u001b[0minput_query\u001b[0m \u001b[0;34m=\u001b[0m \u001b[0;34m{\u001b[0m\u001b[0;34m}\u001b[0m \u001b[0;32mif\u001b[0m \u001b[0mquery\u001b[0m \u001b[0;32mis\u001b[0m \u001b[0;32mNone\u001b[0m \u001b[0;32melse\u001b[0m \u001b[0mquery\u001b[0m\u001b[0;34m\u001b[0m\u001b[0;34m\u001b[0m\u001b[0m\n\u001b[0;32m--> 135\u001b[0;31m     \u001b[0mdevice_data\u001b[0m\u001b[0;34m,\u001b[0m \u001b[0m_\u001b[0m \u001b[0;34m=\u001b[0m \u001b[0m_get_device_data\u001b[0m\u001b[0;34m(\u001b[0m\u001b[0minput_query\u001b[0m\u001b[0;34m)\u001b[0m\u001b[0;34m\u001b[0m\u001b[0;34m\u001b[0m\u001b[0m\n\u001b[0m\u001b[1;32m    136\u001b[0m     \u001b[0;31m# device_data, lag = _get_device_data(input_query)\u001b[0m\u001b[0;34m\u001b[0m\u001b[0;34m\u001b[0m\u001b[0m\n\u001b[1;32m    137\u001b[0m     \u001b[0;31m# hours, minutes = divmod(lag, 60)\u001b[0m\u001b[0;34m\u001b[0m\u001b[0;34m\u001b[0m\u001b[0m\n",
      "\u001b[0;32m~/Documents/GitHub/qBraid/qbraid/devices/_utils/device_api.py\u001b[0m in \u001b[0;36m_get_device_data\u001b[0;34m(query)\u001b[0m\n\u001b[1;32m     30\u001b[0m         \u001b[0mname\u001b[0m \u001b[0;34m=\u001b[0m \u001b[0mdocument\u001b[0m\u001b[0;34m[\u001b[0m\u001b[0;34m\"name\"\u001b[0m\u001b[0;34m]\u001b[0m\u001b[0;34m\u001b[0m\u001b[0;34m\u001b[0m\u001b[0m\n\u001b[1;32m     31\u001b[0m         \u001b[0mprovider\u001b[0m \u001b[0;34m=\u001b[0m \u001b[0mdocument\u001b[0m\u001b[0;34m[\u001b[0m\u001b[0;34m\"provider\"\u001b[0m\u001b[0;34m]\u001b[0m\u001b[0;34m\u001b[0m\u001b[0;34m\u001b[0m\u001b[0m\n\u001b[0;32m---> 32\u001b[0;31m         \u001b[0mstatus_refresh\u001b[0m \u001b[0;34m=\u001b[0m \u001b[0mdocument\u001b[0m\u001b[0;34m[\u001b[0m\u001b[0;34m\"status_refresh\"\u001b[0m\u001b[0;34m]\u001b[0m\u001b[0;34m\u001b[0m\u001b[0;34m\u001b[0m\u001b[0m\n\u001b[0m\u001b[1;32m     33\u001b[0m         \u001b[0mtimestamp\u001b[0m \u001b[0;34m=\u001b[0m \u001b[0mdatetime\u001b[0m\u001b[0;34m.\u001b[0m\u001b[0mutcnow\u001b[0m\u001b[0;34m(\u001b[0m\u001b[0;34m)\u001b[0m\u001b[0;34m\u001b[0m\u001b[0;34m\u001b[0m\u001b[0m\n\u001b[1;32m     34\u001b[0m         \u001b[0mlag\u001b[0m \u001b[0;34m=\u001b[0m \u001b[0;36m0\u001b[0m\u001b[0;34m\u001b[0m\u001b[0;34m\u001b[0m\u001b[0m\n",
      "\u001b[0;31mKeyError\u001b[0m: 'status_refresh'"
     ]
    }
   ],
   "source": [
    "get_devices({\"type\": \"Simulator\", \"name\": {\"$regex\": \"Density Matrix\"}, \"vendor\": {\"$in\": [\"AWS\", \"Google\"]}})"
   ]
  },
  {
   "cell_type": "markdown",
   "id": "d949ae2f",
   "metadata": {},
   "source": [
    "The qBraid SDK makes running quantum circuits on any device extremely easy. \n",
    "\n",
    "Simply copy the desired qBraid ID into the device wrapper function and your on your way"
   ]
  },
  {
   "cell_type": "code",
   "execution_count": null,
   "id": "c4e4d068",
   "metadata": {
    "scrolled": true
   },
   "outputs": [],
   "source": [
    "aws_device = device_wrapper(\"aws_dm_sim\")"
   ]
  },
  {
   "cell_type": "code",
   "execution_count": null,
   "id": "977e8aed",
   "metadata": {},
   "outputs": [],
   "source": [
    "google_device = device_wrapper(\"google_cirq_dm_sim\")"
   ]
  },
  {
   "cell_type": "code",
   "execution_count": null,
   "id": "e3ed253e",
   "metadata": {},
   "outputs": [],
   "source": [
    "ibm_device = device_wrapper(\"ibm_q_lima\") "
   ]
  },
  {
   "cell_type": "code",
   "execution_count": null,
   "id": "05e31f26",
   "metadata": {},
   "outputs": [],
   "source": [
    "ibm_device.info"
   ]
  },
  {
   "cell_type": "code",
   "execution_count": null,
   "id": "db7cbb75",
   "metadata": {},
   "outputs": [],
   "source": [
    "circuit = random_circuit(\"qiskit\", num_qubits=3, depth=5, measure=True)\n",
    "print(circuit)"
   ]
  },
  {
   "cell_type": "code",
   "execution_count": 11,
   "id": "ee87fc5c",
   "metadata": {},
   "outputs": [],
   "source": [
    "shots=1000"
   ]
  },
  {
   "cell_type": "code",
   "execution_count": 12,
   "id": "97c76456",
   "metadata": {},
   "outputs": [],
   "source": [
    "aws_job = aws_device.run(circuit, shots=shots)"
   ]
  },
  {
   "cell_type": "code",
   "execution_count": 13,
   "id": "e438c305",
   "metadata": {},
   "outputs": [],
   "source": [
    "google_job = google_device.run(circuit, shots=shots)"
   ]
  },
  {
   "cell_type": "code",
   "execution_count": 14,
   "id": "a2218f43",
   "metadata": {},
   "outputs": [],
   "source": [
    "ibm_job = ibm_device.run(circuit, shots=shots)"
   ]
  },
  {
   "cell_type": "code",
   "execution_count": 15,
   "id": "6c68880b",
   "metadata": {},
   "outputs": [
    {
     "data": {
      "text/plain": [
       "'aws_dm_sim-ryanjh88-qjob-l7ovlyo4taugv1xiq0w0'"
      ]
     },
     "execution_count": 15,
     "metadata": {},
     "output_type": "execute_result"
    }
   ],
   "source": [
    "aws_job.id"
   ]
  },
  {
   "cell_type": "code",
   "execution_count": 16,
   "id": "d64c1bf0",
   "metadata": {},
   "outputs": [
    {
     "data": {
      "text/plain": [
       "<JobStatus.VALIDATING: 2>"
      ]
     },
     "execution_count": 16,
     "metadata": {},
     "output_type": "execute_result"
    }
   ],
   "source": [
    "# ibm_job.device.pending_jobs()\n",
    "ibm_job.status()"
   ]
  },
  {
   "cell_type": "code",
   "execution_count": 17,
   "id": "7bc12a29",
   "metadata": {},
   "outputs": [],
   "source": [
    "ibm_result = ibm_job.result()"
   ]
  },
  {
   "cell_type": "code",
   "execution_count": 18,
   "id": "620b6fad",
   "metadata": {},
   "outputs": [],
   "source": [
    "google_result = google_job.result()"
   ]
  },
  {
   "cell_type": "code",
   "execution_count": 19,
   "id": "313f579e",
   "metadata": {},
   "outputs": [],
   "source": [
    "aws_result = aws_job.result()"
   ]
  },
  {
   "cell_type": "code",
   "execution_count": 20,
   "id": "bb644983",
   "metadata": {},
   "outputs": [
    {
     "data": {
      "text/plain": [
       "{'010': 1000}"
      ]
     },
     "execution_count": 20,
     "metadata": {},
     "output_type": "execute_result"
    }
   ],
   "source": [
    "aws_result.measurement_counts()"
   ]
  },
  {
   "cell_type": "code",
   "execution_count": 21,
   "id": "b015d8f1",
   "metadata": {},
   "outputs": [
    {
     "data": {
      "text/plain": [
       "{'010': 1000}"
      ]
     },
     "execution_count": 21,
     "metadata": {},
     "output_type": "execute_result"
    }
   ],
   "source": [
    "google_result.measurement_counts()"
   ]
  },
  {
   "cell_type": "code",
   "execution_count": 22,
   "id": "b9263002",
   "metadata": {},
   "outputs": [
    {
     "data": {
      "text/plain": [
       "{'000': 82,\n",
       " '001': 11,\n",
       " '010': 833,\n",
       " '011': 11,\n",
       " '100': 27,\n",
       " '101': 6,\n",
       " '110': 27,\n",
       " '111': 3}"
      ]
     },
     "execution_count": 22,
     "metadata": {},
     "output_type": "execute_result"
    }
   ],
   "source": [
    "ibm_result.measurement_counts()"
   ]
  },
  {
   "cell_type": "code",
   "execution_count": 23,
   "id": "7bf141e6",
   "metadata": {},
   "outputs": [
    {
     "data": {
      "image/png": "[encoded data removed]",
      "text/plain": [
       "<Figure size 504x360 with 1 Axes>"
      ]
     },
     "execution_count": 23,
     "metadata": {},
     "output_type": "execute_result"
    }
   ],
   "source": [
    "ibm_result.plot_counts()"
   ]
  },
  {
   "cell_type": "code",
   "execution_count": 24,
   "id": "482dac72",
   "metadata": {},
   "outputs": [
    {
     "data": {
      "image/png": "[encoded data removed]",
      "text/plain": [
       "<Figure size 504x360 with 1 Axes>"
      ]
     },
     "execution_count": 24,
     "metadata": {},
     "output_type": "execute_result"
    }
   ],
   "source": [
    "aws_result.plot_counts()"
   ]
  },
  {
   "cell_type": "code",
   "execution_count": 25,
   "id": "e65d5c93",
   "metadata": {},
   "outputs": [
    {
     "data": {
      "image/png": "[encoded data removed]",
      "text/plain": [
       "<Figure size 504x360 with 1 Axes>"
      ]
     },
     "execution_count": 25,
     "metadata": {},
     "output_type": "execute_result"
    }
   ],
   "source": [
    "google_result.plot_counts()"
   ]
  },
  {
   "cell_type": "code",
   "execution_count": null,
   "id": "80082fe7",
   "metadata": {},
   "outputs": [],
   "source": []
  }
 ],
 "metadata": {
  "kernelspec": {
   "display_name": "Python 3 (ipykernel)",
   "language": "python",
   "name": "python3"
  },
  "language_info": {
   "codemirror_mode": {
    "name": "ipython",
    "version": 3
   },
   "file_extension": ".py",
   "mimetype": "text/x-python",
   "name": "python",
   "nbconvert_exporter": "python",
   "pygments_lexer": "ipython3",
   "version": "3.9.7"
  }
 },
 "nbformat": 4,
 "nbformat_minor": 5
}
