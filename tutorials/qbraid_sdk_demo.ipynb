{
 "cells": [
  {
   "cell_type": "code",
   "execution_count": null,
   "id": "331a496f",
   "metadata": {},
   "outputs": [],
   "source": [
    "from qbraid import (\n",
    "    get_devices, \n",
    "    random_circuit, \n",
    "    refresh_devices,\n",
    "    device_wrapper, \n",
    ")"
   ]
  },
  {
   "cell_type": "markdown",
   "id": "cb5fd782",
   "metadata": {},
   "source": [
    "Get a complete list of devices available through qBraid using the get_devices function"
   ]
  },
  {
   "cell_type": "code",
   "execution_count": null,
   "id": "46da3cb6",
   "metadata": {
    "scrolled": true
   },
   "outputs": [],
   "source": [
    "get_devices()"
   ]
  },
  {
   "cell_type": "markdown",
   "id": "b6881bc0",
   "metadata": {},
   "source": [
    "All device status's are updated every hour. To manually refresh device status's, use refresh_devices"
   ]
  },
  {
   "cell_type": "code",
   "execution_count": null,
   "id": "99f670f5",
   "metadata": {},
   "outputs": [],
   "source": [
    "refresh_devices()"
   ]
  },
  {
   "cell_type": "markdown",
   "id": "2ac5ee70",
   "metadata": {},
   "source": [
    "Filter your device search with many different advanced query options! \n",
    "\n",
    "For example, let's find all gate-based QPUs with at least 5 qubits that are online:"
   ]
  },
  {
   "cell_type": "code",
   "execution_count": null,
   "id": "d472ad75",
   "metadata": {},
   "outputs": [],
   "source": [
    "get_devices({\"paradigm\": \"gate-based\", \"type\": \"QPU\", \"qubits\": {\"$gte\": 5}, \"status\": \"ONLINE\"})"
   ]
  },
  {
   "cell_type": "markdown",
   "id": "052fd5f9",
   "metadata": {},
   "source": [
    "This time, let's search for state vector simulators available through AWS or IBM"
   ]
  },
  {
   "cell_type": "code",
   "execution_count": null,
   "id": "dca2b958",
   "metadata": {},
   "outputs": [],
   "source": [
    "get_devices({\"type\": \"Simulator\", \"name\": {\"$regex\": \"Density Matrix\"}, \"vendor\": {\"$in\": [\"AWS\", \"Google\"]}})"
   ]
  },
  {
   "cell_type": "markdown",
   "id": "d949ae2f",
   "metadata": {},
   "source": [
    "The qBraid SDK makes running quantum circuits on any device extremely easy. \n",
    "\n",
    "Simply copy the desired qBraid ID into the device wrapper function and your on your way"
   ]
  },
  {
   "cell_type": "code",
   "execution_count": null,
   "id": "c4e4d068",
   "metadata": {
    "scrolled": true
   },
   "outputs": [],
   "source": [
    "aws_device = device_wrapper(\"aws_dm_sim\")"
   ]
  },
  {
   "cell_type": "code",
   "execution_count": null,
   "id": "977e8aed",
   "metadata": {},
   "outputs": [],
   "source": [
    "google_device = device_wrapper(\"google_cirq_dm_sim\")"
   ]
  },
  {
   "cell_type": "code",
   "execution_count": null,
   "id": "e3ed253e",
   "metadata": {},
   "outputs": [],
   "source": [
    "ibm_device = device_wrapper(\"ibm_q_lima\") "
   ]
  },
  {
   "cell_type": "code",
   "execution_count": null,
   "id": "05e31f26",
   "metadata": {},
   "outputs": [],
   "source": [
    "ibm_device.info"
   ]
  },
  {
   "cell_type": "code",
   "execution_count": null,
   "id": "db7cbb75",
   "metadata": {},
   "outputs": [],
   "source": [
    "circuit = random_circuit(\"qiskit\", num_qubits=3, depth=5, measure=True)\n",
    "print(circuit)"
   ]
  },
  {
   "cell_type": "code",
   "execution_count": null,
   "id": "ee87fc5c",
   "metadata": {},
   "outputs": [],
   "source": [
    "shots=1000"
   ]
  },
  {
   "cell_type": "code",
   "execution_count": null,
   "id": "97c76456",
   "metadata": {},
   "outputs": [],
   "source": [
    "aws_job = aws_device.run(circuit, shots=shots)"
   ]
  },
  {
   "cell_type": "code",
   "execution_count": null,
   "id": "e438c305",
   "metadata": {},
   "outputs": [],
   "source": [
    "google_job = google_device.run(circuit, shots=shots)"
   ]
  },
  {
   "cell_type": "code",
   "execution_count": null,
   "id": "a2218f43",
   "metadata": {},
   "outputs": [],
   "source": [
    "ibm_job = ibm_device.run(circuit, shots=shots)"
   ]
  },
  {
   "cell_type": "code",
   "execution_count": null,
   "id": "6c68880b",
   "metadata": {},
   "outputs": [],
   "source": [
    "aws_job.id"
   ]
  },
  {
   "cell_type": "code",
   "execution_count": null,
   "id": "d64c1bf0",
   "metadata": {},
   "outputs": [],
   "source": [
    "# ibm_job.device.pending_jobs()\n",
    "ibm_job.status()"
   ]
  },
  {
   "cell_type": "code",
   "execution_count": null,
   "id": "7bc12a29",
   "metadata": {},
   "outputs": [],
   "source": [
    "ibm_result = ibm_job.result()"
   ]
  },
  {
   "cell_type": "code",
   "execution_count": null,
   "id": "620b6fad",
   "metadata": {},
   "outputs": [],
   "source": [
    "google_result = google_job.result()"
   ]
  },
  {
   "cell_type": "code",
   "execution_count": null,
   "id": "313f579e",
   "metadata": {},
   "outputs": [],
   "source": [
    "aws_result = aws_job.result()"
   ]
  },
  {
   "cell_type": "code",
   "execution_count": null,
   "id": "bb644983",
   "metadata": {},
   "outputs": [],
   "source": [
    "aws_result.measurement_counts()"
   ]
  },
  {
   "cell_type": "code",
   "execution_count": null,
   "id": "b015d8f1",
   "metadata": {},
   "outputs": [],
   "source": [
    "google_result.measurement_counts()"
   ]
  },
  {
   "cell_type": "code",
   "execution_count": null,
   "id": "b9263002",
   "metadata": {},
   "outputs": [],
   "source": [
    "ibm_result.measurement_counts()"
   ]
  },
  {
   "cell_type": "code",
   "execution_count": null,
   "id": "7bf141e6",
   "metadata": {},
   "outputs": [],
   "source": [
    "ibm_result.plot_counts()"
   ]
  },
  {
   "cell_type": "code",
   "execution_count": null,
   "id": "482dac72",
   "metadata": {},
   "outputs": [],
   "source": [
    "aws_result.plot_counts()"
   ]
  },
  {
   "cell_type": "code",
   "execution_count": null,
   "id": "e65d5c93",
   "metadata": {},
   "outputs": [],
   "source": [
    "google_result.plot_counts()"
   ]
  },
  {
   "cell_type": "code",
   "execution_count": null,
   "id": "80082fe7",
   "metadata": {},
   "outputs": [],
   "source": []
  }
 ],
 "metadata": {
  "kernelspec": {
   "display_name": "Python 3 (ipykernel)",
   "language": "python",
   "name": "python3"
  },
  "language_info": {
   "codemirror_mode": {
    "name": "ipython",
    "version": 3
   },
   "file_extension": ".py",
   "mimetype": "text/x-python",
   "name": "python",
   "nbconvert_exporter": "python",
   "pygments_lexer": "ipython3",
   "version": "3.9.7"
  }
 },
 "nbformat": 4,
 "nbformat_minor": 5
}
