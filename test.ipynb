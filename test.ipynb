{
 "cells": [
  {
   "cell_type": "code",
   "execution_count": null,
   "metadata": {},
   "outputs": [],
   "source": [
    "from qbraid.runtime.iqm import IQMProvider\n",
    "\n",
    "provider = IQMProvider(\"QTwbTsCDphLBQQWQHRAqBQaMsAuxouE6ViOH9KvZ7BQGanuo0LBzcoAAM82oE+Gr\")"
   ]
  }
 ],
 "metadata": {
  "kernelspec": {
   "display_name": "qbraid",
   "language": "python",
   "name": "python3"
  },
  "language_info": {
   "name": "python",
   "version": "3.11.9"
  }
 },
 "nbformat": 4,
 "nbformat_minor": 2
}
